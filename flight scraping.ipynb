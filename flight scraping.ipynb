{
 "cells": [
  {
   "cell_type": "markdown",
   "id": "ec197ed8-5ed9-46bc-b6ae-d35a5614f4b6",
   "metadata": {},
   "source": [
    "# Scraping bot Kayak flights website"
   ]
  },
  {
   "cell_type": "code",
   "execution_count": null,
   "id": "949145d4-0859-4086-8eb0-2728b54981ad",
   "metadata": {},
   "outputs": [],
   "source": [
    "import pandas as pd\n",
    "import selenium \n",
    "from selenium.webdriver.common.by import By\n",
    "from selenium import webdriver \n",
    "import numpy as np\n",
    "from time import sleep\n",
    "from random import randint\n",
    "import datetime\n",
    "import calendar"
   ]
  },
  {
   "cell_type": "markdown",
   "id": "a1c97f01-3a4d-4947-b2d8-0557b317bc85",
   "metadata": {},
   "source": [
    "### Scrape the DATA"
   ]
  },
  {
   "cell_type": "code",
   "execution_count": null,
   "id": "7127d25a-c349-428c-9284-562b5b353af9",
   "metadata": {
    "tags": []
   },
   "outputs": [],
   "source": [
    "# set the urls to scrape, a year from now\n",
    "\n",
    "year_from_now = datetime.date.today() + datetime.timedelta(days=365)\n",
    "url_new = []\n",
    "\n",
    "while year_from_now != datetime.date.today():\n",
    "    end = year_from_now.replace(day=1) - datetime.timedelta(days=1)\n",
    "    start = year_from_now.replace(day=1) - datetime.timedelta(days=end.day)\n",
    "    monthdays = end - start\n",
    "    year_from_now = year_from_now - datetime.timedelta(days=monthdays.days+1)\n",
    "    \n",
    "    if year_from_now == datetime.date.today():\n",
    "        url_new.append(f'https://www.kayak.com/explore/TLV-anywhere/{datetime.date.today().strftime(\"%Y%m%d\")},{end.strftime(\"%Y%m%d\")}')\n",
    "    else:\n",
    "        url_new.append(f'https://www.kayak.com/explore/TLV-anywhere/{start.strftime(\"%Y%m%d\")},{end.strftime(\"%Y%m%d\")}')\n",
    "\n",
    "url_new"
   ]
  },
  {
   "cell_type": "code",
   "execution_count": null,
   "id": "8601050f-bb70-4af2-9c14-9e264d5a2a03",
   "metadata": {
    "tags": []
   },
   "outputs": [],
   "source": [
    "destenation = []\n",
    "price = []\n",
    "dest_list =[]\n",
    "\n",
    "# Initialize Selenium\n",
    "for y in url_new:\n",
    "    scrap_website = y\n",
    "    driver = webdriver.Chrome()\n",
    "    sleep(2)\n",
    "    driver.get(scrap_website)\n",
    "    sleep(20)\n",
    "\n",
    "    html = driver.page_source\n",
    "# Scaling up the map inside the website for more flight result    \n",
    "    for a in range(0,2):\n",
    "        driver.find_element(By.XPATH ,'/html/body/div[1]/div[1]/main/div[2]/div[2]/div[2]/div/div[1]/div/button[2]').click()\n",
    "        sleep(3)\n",
    "#Load more flights    \n",
    "    try:\n",
    "        for i in range(30):\n",
    "            driver.find_element(By.XPATH ,'/html/body/div[1]/div[1]/main/div[2]/div[2]/div[2]/div/div[2]/div/div/div/div[5]/button').click()\n",
    "            print(i)\n",
    "            sleep(randint(2,6))\n",
    "            \n",
    "    except:\n",
    "        dest = driver.find_elements(By.XPATH ,'/html/body/div[1]/div[1]/main/div[2]/div[2]/div[2]/div/div[2]/div/div/div/div[3]')\n",
    "        print(\"get Data\")\n",
    "# Make an ugly list    \n",
    "        for element in dest:\n",
    "            dest_list.append(element.text)\n",
    "            sleep(3)\n"
   ]
  },
  {
   "cell_type": "markdown",
   "id": "73b3cd05-ba3f-46c6-87f6-9023b4ae97e0",
   "metadata": {},
   "source": [
    "### Process the DATA"
   ]
  },
  {
   "cell_type": "code",
   "execution_count": null,
   "id": "2c832869-5c89-4ee3-b21f-6d30d9a78ac4",
   "metadata": {
    "tags": []
   },
   "outputs": [],
   "source": [
    "\n",
    "# make ugly list more beautiful\n",
    "\n",
    "for n in dest_list:\n",
    "    destenation.append(n.split(\"\\n\"))\n",
    "\n",
    "list_of = []\n",
    "for dest in destenation:\n",
    "    for month in dest:\n",
    "        list_of.append(month)\n",
    "list_of"
   ]
  },
  {
   "cell_type": "code",
   "execution_count": null,
   "id": "a6856288-3fa2-4f06-8d43-35aa4bd1c73e",
   "metadata": {},
   "outputs": [],
   "source": [
    "# Check for only items with Price and return the index \n",
    "\n",
    "import re\n",
    "\n",
    "index_list=[]\n",
    "x=0\n",
    "\n",
    "for i in list_of:\n",
    "    if re.match(\"from\", i):\n",
    "        index_list.append(x)\n",
    "    x=x+1\n",
    "\n",
    "# make list from items with price only\n",
    "\n",
    "final_list = []\n",
    "\n",
    "for x in index_list:\n",
    "    final_list.append(list_of[x-1])\n",
    "    final_list.append(list_of[x])\n",
    "    final_list.append(list_of[x+1])\n",
    "    final_list.append(list_of[x+2])\n",
    "    \n",
    "final_list"
   ]
  },
  {
   "cell_type": "markdown",
   "id": "d50168a7-b248-4372-a761-0070817d580e",
   "metadata": {},
   "source": [
    "### Get Destenation"
   ]
  },
  {
   "cell_type": "code",
   "execution_count": null,
   "id": "7f39fdad-c9f8-4c3b-a8fd-7349476d403f",
   "metadata": {},
   "outputs": [],
   "source": [
    "flights =pd.DataFrame()"
   ]
  },
  {
   "cell_type": "code",
   "execution_count": null,
   "id": "82d0f5fd-5936-4ebb-843f-a54360d1dba5",
   "metadata": {},
   "outputs": [],
   "source": [
    "flights['destenation'] = final_list[::4]"
   ]
  },
  {
   "cell_type": "markdown",
   "id": "8cfa3ce6-e6fa-4b4b-af82-3adce5ff9c15",
   "metadata": {},
   "source": [
    "### Get contry"
   ]
  },
  {
   "cell_type": "code",
   "execution_count": null,
   "id": "68280787-95b0-41b0-b1c8-78b4caf85a51",
   "metadata": {},
   "outputs": [],
   "source": [
    "flights['Contry'] = final_list[2::4]"
   ]
  },
  {
   "cell_type": "markdown",
   "id": "2e9c9bf8-cf3e-4697-81da-3aa8686d31a4",
   "metadata": {},
   "source": [
    "### Get Prices"
   ]
  },
  {
   "cell_type": "code",
   "execution_count": null,
   "id": "372918b1-e346-4f16-b21b-c0a2379e6816",
   "metadata": {},
   "outputs": [],
   "source": [
    "prices = []\n",
    "for price in final_list[1::4]:\n",
    "    prices.append(price[6:])\n",
    "\n",
    "flights['prices'] = prices"
   ]
  },
  {
   "cell_type": "markdown",
   "id": "b2dee3ba-a70c-4511-a132-f7a7f3e81876",
   "metadata": {},
   "source": [
    "### Get dates"
   ]
  },
  {
   "cell_type": "code",
   "execution_count": null,
   "id": "24a7835c-6591-4e47-a6b8-b4ec5ba7405f",
   "metadata": {
    "tags": []
   },
   "outputs": [],
   "source": [
    "dates = []\n",
    "for inout in final_list[3::4]:\n",
    "    dates.append(inout.split(\" \"))\n",
    "\n",
    "days_name_out = []\n",
    "month_out = []\n",
    "day_num_out = []\n",
    "days_name_return = []\n",
    "month_return = []\n",
    "day_num_return = []\n",
    "i=0\n",
    "for x in dates:\n",
    "    days_name_out.append(x[0][0:3])\n",
    "    month_out.append(x[1])\n",
    "    day_num_out.append(x[2])\n",
    "    days_name_return.append(x[4][0:3])\n",
    "    month_return.append(x[5])\n",
    "    day_num_return.append(x[6])\n",
    "    \n",
    "\n",
    "flights['Out day'] = days_name_out\n",
    "flights['Out month'] = month_out\n",
    "flights['Out date'] = day_num_out\n",
    "flights['Back day'] = days_name_return\n",
    "flights['Back month'] = month_return\n",
    "flights['Back date'] = day_num_return"
   ]
  },
  {
   "cell_type": "code",
   "execution_count": null,
   "id": "c269b7a3-7eea-447c-bdd3-6fe20b724f4d",
   "metadata": {
    "tags": []
   },
   "outputs": [],
   "source": [
    "data = flights"
   ]
  },
  {
   "cell_type": "markdown",
   "id": "61ef7bfc-af1f-42da-aec0-29b3c6795483",
   "metadata": {},
   "source": [
    "### working on the DF"
   ]
  },
  {
   "cell_type": "code",
   "execution_count": null,
   "id": "fdbb7f6b-bf30-4bc7-926a-99c0b2b7e6ce",
   "metadata": {
    "tags": []
   },
   "outputs": [],
   "source": [
    "#concat month and the day of the month\n",
    "data['Departure'] = data['Out month']+ \" \" + data['Out date'].astype(str)\n",
    "data = data.drop(['Out month','Out date'], axis=1)\n",
    "\n",
    "data['Arrival'] = data['Back month']+ \" \" + data['Back date'].astype(str)\n",
    "data = data.drop(['Back month','Back date'], axis=1)\n",
    "\n",
    "#convert Date str into a date object and corcting the year\n",
    "from datetime import datetime\n",
    "row = 0\n",
    "for i in data['Departure']:\n",
    "    data['Departure'][row] = datetime.strptime(data['Departure'][row], '%b %d').date()\n",
    "    \n",
    "    if datetime.today().month <= data['Departure'][row].month <= 12:\n",
    "        data['Departure'][row] = data['Departure'][row].replace(year = datetime.today().year)\n",
    "        row = row + 1\n",
    "    else:\n",
    "        data['Departure'][row] = data['Departure'][row].replace(year = datetime.today().year+1)\n",
    "        row = row + 1\n",
    "\n",
    "row = 0\n",
    "for i in data['Arrival']:\n",
    "    data['Arrival'][row] = datetime.strptime(data['Arrival'][row], '%b %d').date()\n",
    "    \n",
    "    if datetime.today().month <= data['Arrival'][row].month <= 12:\n",
    "        data['Arrival'][row] = data['Arrival'][row].replace(year = datetime.today().year)\n",
    "        row = row + 1\n",
    "    else:\n",
    "        data['Arrival'][row] = data['Arrival'][row].replace(year = datetime.today().year+1)\n",
    "        row = row + 1\n",
    "    \n",
    "# add number of days staying\n",
    "data['# of days'] = data['Arrival'] - data['Departure']\n",
    "\n",
    "\n",
    "#conver Weekday str to date object\n",
    "for i in range(len(data['Out day'])):\n",
    "    data['Out day'][i] = data['Departure'][i].strftime('%A')\n",
    "for i in range(len(data['Back day'])):\n",
    "    data['Back day'][i] = data['Arrival'][i].strftime('%A')"
   ]
  },
  {
   "cell_type": "code",
   "execution_count": null,
   "id": "88c75d36-f2a7-460a-8ce1-5abf25931da6",
   "metadata": {
    "tags": []
   },
   "outputs": [],
   "source": [
    "# convert price to int\n",
    "for i in range(len(data['prices'])):\n",
    "    data['prices'][i] = int(data['prices'][i].replace(',', ''))"
   ]
  },
  {
   "cell_type": "code",
   "execution_count": null,
   "id": "56119de9-c83f-4457-a917-112779716e8f",
   "metadata": {},
   "outputs": [],
   "source": [
    "# Save the data as CSV file\n",
    "data.to_csv('kayakflights.csv', index=False)"
   ]
  },
  {
   "cell_type": "code",
   "execution_count": null,
   "id": "1ce7d419-9f3d-4b65-a85a-1d0d1714defb",
   "metadata": {},
   "outputs": [],
   "source": [
    "data"
   ]
  }
 ],
 "metadata": {
  "kernelspec": {
   "display_name": "Python [conda env:flight]",
   "language": "python",
   "name": "conda-env-flight-py"
  },
  "language_info": {
   "codemirror_mode": {
    "name": "ipython",
    "version": 3
   },
   "file_extension": ".py",
   "mimetype": "text/x-python",
   "name": "python",
   "nbconvert_exporter": "python",
   "pygments_lexer": "ipython3",
   "version": "3.10.4"
  }
 },
 "nbformat": 4,
 "nbformat_minor": 5
}
